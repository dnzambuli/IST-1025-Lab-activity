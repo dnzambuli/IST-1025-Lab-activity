{
 "cells": [
  {
   "cell_type": "code",
   "execution_count": 2,
   "id": "3bee5ebb",
   "metadata": {},
   "outputs": [],
   "source": [
    "# importing the libraries\n",
    "\n",
    "import matplotlib as mat\n",
    "import numpy as np\n",
    "import pandas as pd\n",
    "\n"
   ]
  },
  {
   "cell_type": "code",
   "execution_count": 4,
   "id": "46d71dc1",
   "metadata": {},
   "outputs": [
    {
     "name": "stdout",
     "output_type": "stream",
     "text": [
      "      New York City Population  NYC Consumption(Million gallons per day)  \\\n",
      "Year                                                                       \n",
      "1979                 7102100.0                                   1512.00   \n",
      "1980                 7071639.0                                   1506.00   \n",
      "1981                 7089241.0                                   1309.00   \n",
      "1982                 7109105.0                                   1382.00   \n",
      "1983                 7181224.0                                   1424.00   \n",
      "1984                 7234514.0                                   1465.00   \n",
      "1985                 7274054.0                                   1326.00   \n",
      "1986                 7319246.0                                   1351.00   \n",
      "1987                 7342476.0                                   1447.00   \n",
      "1988                 7353719.0                                   1484.00   \n",
      "1989                 7344175.0                                   1402.00   \n",
      "1990                 7335650.0                                   1424.00   \n",
      "1991                 7374501.0                                   1469.00   \n",
      "1992                 7428944.0                                   1369.00   \n",
      "1993                 7506166.0                                   1368.50   \n",
      "1994                 7570458.0                                   1357.70   \n",
      "1995                 7633040.0                                   1325.70   \n",
      "1996                 7697812.0                                   1297.90   \n",
      "1997                 7773443.0                                   1205.50   \n",
      "1998                 7858259.0                                   1219.50   \n",
      "1999                 7947660.0                                   1237.20   \n",
      "2000                 8008278.0                                   1240.40   \n",
      "2001                 8024963.5                                   1184.00   \n",
      "2002                 8041649.0                                   1135.60   \n",
      "2003                 8058334.5                                   1093.70   \n",
      "2004                 8075020.0                                   1099.50   \n",
      "2005                 8091705.5                                   1138.00   \n",
      "2006                 8108391.0                                   1069.00   \n",
      "2007                 8125076.5                                   1114.00   \n",
      "2008                 8141762.0                                   1098.00   \n",
      "2009                 8158447.5                                   1007.50   \n",
      "2010                 8175133.0                                   1039.00   \n",
      "2011                 8337995.0                                   1021.00   \n",
      "2012                 8463949.0                                   1009.14   \n",
      "2013                 8565546.0                                   1006.10   \n",
      "2014                 8655309.0                                    996.00   \n",
      "2015                 8736703.0                                   1009.00   \n",
      "2016                 8794605.0                                   1002.00   \n",
      "2017                 8815448.0                                    990.20   \n",
      "2018                 8826472.0                                   1008.00   \n",
      "2019                 8824887.0                                    987.40   \n",
      "2020                 8804190.0                                    981.00   \n",
      "2021                 8467513.0                                    979.00   \n",
      "\n",
      "      Per Capita(Gallons per person per day)  \n",
      "Year                                          \n",
      "1979                                     213  \n",
      "1980                                     213  \n",
      "1981                                     185  \n",
      "1982                                     194  \n",
      "1983                                     198  \n",
      "1984                                     203  \n",
      "1985                                     182  \n",
      "1986                                     185  \n",
      "1987                                     197  \n",
      "1988                                     202  \n",
      "1989                                     191  \n",
      "1990                                     194  \n",
      "1991                                     199  \n",
      "1992                                     184  \n",
      "1993                                     182  \n",
      "1994                                     179  \n",
      "1995                                     174  \n",
      "1996                                     169  \n",
      "1997                                     155  \n",
      "1998                                     155  \n",
      "1999                                     156  \n",
      "2000                                     155  \n",
      "2001                                     148  \n",
      "2002                                     141  \n",
      "2003                                     136  \n",
      "2004                                     136  \n",
      "2005                                     141  \n",
      "2006                                     132  \n",
      "2007                                     137  \n",
      "2008                                     135  \n",
      "2009                                     123  \n",
      "2010                                     127  \n",
      "2011                                     122  \n",
      "2012                                     119  \n",
      "2013                                     117  \n",
      "2014                                     115  \n",
      "2015                                     115  \n",
      "2016                                     114  \n",
      "2017                                     112  \n",
      "2018                                     114  \n",
      "2019                                     112  \n",
      "2020                                     111  \n",
      "2021                                     116  \n"
     ]
    }
   ],
   "source": [
    "# importing the data set and displaying it \n",
    "\n",
    "data = './Water_Consumption_in_the_City_of_New_York.csv'\n",
    "dataset = pd.read_csv(data, index_col = 0)\n",
    "print(dataset)"
   ]
  },
  {
   "cell_type": "code",
   "execution_count": 5,
   "id": "b80e2d2d",
   "metadata": {},
   "outputs": [
    {
     "data": {
      "text/plain": [
       "New York City Population                    0\n",
       "NYC Consumption(Million gallons per day)    0\n",
       "Per Capita(Gallons per person per day)      0\n",
       "dtype: int64"
      ]
     },
     "execution_count": 5,
     "metadata": {},
     "output_type": "execute_result"
    }
   ],
   "source": [
    "# Test for empty rows or column positions \n",
    "\n",
    "dataset.isnull().sum()"
   ]
  },
  {
   "cell_type": "markdown",
   "id": "e6bfb834",
   "metadata": {},
   "source": [
    "## Describing the data \n",
    "The data can be expressed either as:\n",
    "\n",
    "- year and population data \n",
    "- populaion and total consumption\n",
    "- year and per capita consumption\n",
    "- year and total consumption"
   ]
  },
  {
   "cell_type": "code",
   "execution_count": 11,
   "id": "0c01b3ae",
   "metadata": {},
   "outputs": [
    {
     "ename": "KeyError",
     "evalue": "Index(['Year'], dtype='object')",
     "output_type": "error",
     "traceback": [
      "\u001b[1;31m---------------------------------------------------------------------------\u001b[0m",
      "\u001b[1;31mKeyError\u001b[0m                                  Traceback (most recent call last)",
      "\u001b[1;32mC:\\Users\\DNZAMB~1\\AppData\\Local\\Temp/ipykernel_9748/1922879215.py\u001b[0m in \u001b[0;36m<module>\u001b[1;34m\u001b[0m\n\u001b[0;32m      1\u001b[0m \u001b[1;31m# check for duplicates in years\u001b[0m\u001b[1;33m\u001b[0m\u001b[1;33m\u001b[0m\u001b[0m\n\u001b[1;32m----> 2\u001b[1;33m \u001b[0mduplicated_years\u001b[0m \u001b[1;33m=\u001b[0m \u001b[0mdataset\u001b[0m\u001b[1;33m[\u001b[0m\u001b[0mdataset\u001b[0m\u001b[1;33m.\u001b[0m\u001b[0mduplicated\u001b[0m\u001b[1;33m(\u001b[0m\u001b[1;33m[\u001b[0m\u001b[1;34m'Year'\u001b[0m\u001b[1;33m]\u001b[0m\u001b[1;33m)\u001b[0m\u001b[1;33m]\u001b[0m\u001b[1;33m\u001b[0m\u001b[1;33m\u001b[0m\u001b[0m\n\u001b[0m\u001b[0;32m      3\u001b[0m \u001b[0mduplicated_years\u001b[0m\u001b[1;33m\u001b[0m\u001b[1;33m\u001b[0m\u001b[0m\n",
      "\u001b[1;32mC:\\ProgramData\\Anaconda3\\lib\\site-packages\\pandas\\core\\frame.py\u001b[0m in \u001b[0;36mduplicated\u001b[1;34m(self, subset, keep)\u001b[0m\n\u001b[0;32m   6195\u001b[0m         \u001b[0mdiff\u001b[0m \u001b[1;33m=\u001b[0m \u001b[0mIndex\u001b[0m\u001b[1;33m(\u001b[0m\u001b[0msubset\u001b[0m\u001b[1;33m)\u001b[0m\u001b[1;33m.\u001b[0m\u001b[0mdifference\u001b[0m\u001b[1;33m(\u001b[0m\u001b[0mself\u001b[0m\u001b[1;33m.\u001b[0m\u001b[0mcolumns\u001b[0m\u001b[1;33m)\u001b[0m\u001b[1;33m\u001b[0m\u001b[1;33m\u001b[0m\u001b[0m\n\u001b[0;32m   6196\u001b[0m         \u001b[1;32mif\u001b[0m \u001b[1;32mnot\u001b[0m \u001b[0mdiff\u001b[0m\u001b[1;33m.\u001b[0m\u001b[0mempty\u001b[0m\u001b[1;33m:\u001b[0m\u001b[1;33m\u001b[0m\u001b[1;33m\u001b[0m\u001b[0m\n\u001b[1;32m-> 6197\u001b[1;33m             \u001b[1;32mraise\u001b[0m \u001b[0mKeyError\u001b[0m\u001b[1;33m(\u001b[0m\u001b[0mdiff\u001b[0m\u001b[1;33m)\u001b[0m\u001b[1;33m\u001b[0m\u001b[1;33m\u001b[0m\u001b[0m\n\u001b[0m\u001b[0;32m   6198\u001b[0m \u001b[1;33m\u001b[0m\u001b[0m\n\u001b[0;32m   6199\u001b[0m         \u001b[0mvals\u001b[0m \u001b[1;33m=\u001b[0m \u001b[1;33m(\u001b[0m\u001b[0mcol\u001b[0m\u001b[1;33m.\u001b[0m\u001b[0mvalues\u001b[0m \u001b[1;32mfor\u001b[0m \u001b[0mname\u001b[0m\u001b[1;33m,\u001b[0m \u001b[0mcol\u001b[0m \u001b[1;32min\u001b[0m \u001b[0mself\u001b[0m\u001b[1;33m.\u001b[0m\u001b[0mitems\u001b[0m\u001b[1;33m(\u001b[0m\u001b[1;33m)\u001b[0m \u001b[1;32mif\u001b[0m \u001b[0mname\u001b[0m \u001b[1;32min\u001b[0m \u001b[0msubset\u001b[0m\u001b[1;33m)\u001b[0m\u001b[1;33m\u001b[0m\u001b[1;33m\u001b[0m\u001b[0m\n",
      "\u001b[1;31mKeyError\u001b[0m: Index(['Year'], dtype='object')"
     ]
    }
   ],
   "source": [
    "# check for duplicates in years\n",
    "duplicated_years = dataset[dataset.duplicated(['Year'])]\n",
    "duplicated_years"
   ]
  },
  {
   "cell_type": "code",
   "execution_count": null,
   "id": "2a5864f1",
   "metadata": {},
   "outputs": [],
   "source": []
  }
 ],
 "metadata": {
  "kernelspec": {
   "display_name": "Python 3 (ipykernel)",
   "language": "python",
   "name": "python3"
  },
  "language_info": {
   "codemirror_mode": {
    "name": "ipython",
    "version": 3
   },
   "file_extension": ".py",
   "mimetype": "text/x-python",
   "name": "python",
   "nbconvert_exporter": "python",
   "pygments_lexer": "ipython3",
   "version": "3.9.7"
  }
 },
 "nbformat": 4,
 "nbformat_minor": 5
}
