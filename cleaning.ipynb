{
 "cells": [
  {
   "cell_type": "code",
   "execution_count": 1,
   "id": "3bee5ebb",
   "metadata": {},
   "outputs": [],
   "source": [
    "# importing the libraries\n",
    "\n",
    "import matplotlib.pyplot as plt\n",
    "import numpy as np\n",
    "import pandas as pd\n",
    "\n"
   ]
  },
  {
   "cell_type": "code",
   "execution_count": 8,
   "id": "46d71dc1",
   "metadata": {},
   "outputs": [
    {
     "name": "stdout",
     "output_type": "stream",
     "text": [
      "    Year  Population  Daily Consumption mil-gal/day  Per Capita gal/day\n",
      "0   1979   7102100.0                        1512.00                 213\n",
      "1   1980   7071639.0                        1506.00                 213\n",
      "2   1981   7089241.0                        1309.00                 185\n",
      "3   1982   7109105.0                        1382.00                 194\n",
      "4   1983   7181224.0                        1424.00                 198\n",
      "5   1984   7234514.0                        1465.00                 203\n",
      "6   1985   7274054.0                        1326.00                 182\n",
      "7   1986   7319246.0                        1351.00                 185\n",
      "8   1987   7342476.0                        1447.00                 197\n",
      "9   1988   7353719.0                        1484.00                 202\n",
      "10  1989   7344175.0                        1402.00                 191\n",
      "11  1990   7335650.0                        1424.00                 194\n",
      "12  1991   7374501.0                        1469.00                 199\n",
      "13  1992   7428944.0                        1369.00                 184\n",
      "14  1993   7506166.0                        1368.50                 182\n",
      "15  1994   7570458.0                        1357.70                 179\n",
      "16  1995   7633040.0                        1325.70                 174\n",
      "17  1996   7697812.0                        1297.90                 169\n",
      "18  1997   7773443.0                        1205.50                 155\n",
      "19  1998   7858259.0                        1219.50                 155\n",
      "20  1999   7947660.0                        1237.20                 156\n",
      "21  2000   8008278.0                        1240.40                 155\n",
      "22  2001   8024963.5                        1184.00                 148\n",
      "23  2002   8041649.0                        1135.60                 141\n",
      "24  2003   8058334.5                        1093.70                 136\n",
      "25  2004   8075020.0                        1099.50                 136\n",
      "26  2005   8091705.5                        1138.00                 141\n",
      "27  2006   8108391.0                        1069.00                 132\n",
      "28  2007   8125076.5                        1114.00                 137\n",
      "29  2008   8141762.0                        1098.00                 135\n",
      "30  2009   8158447.5                        1007.50                 123\n",
      "31  2010   8175133.0                        1039.00                 127\n",
      "32  2011   8337995.0                        1021.00                 122\n",
      "33  2012   8463949.0                        1009.14                 119\n",
      "34  2013   8565546.0                        1006.10                 117\n",
      "35  2014   8655309.0                         996.00                 115\n",
      "36  2015   8736703.0                        1009.00                 115\n",
      "37  2016   8794605.0                        1002.00                 114\n",
      "38  2017   8815448.0                         990.20                 112\n",
      "39  2018   8826472.0                        1008.00                 114\n",
      "40  2019   8824887.0                         987.40                 112\n",
      "41  2020   8804190.0                         981.00                 111\n",
      "42  2021   8467513.0                         979.00                 116\n"
     ]
    }
   ],
   "source": [
    "# importing the data set and displaying it \n",
    "\n",
    "data = './Water_Consumption_in_the_City_of_New_York.csv'\n",
    "easier_names = ['Year', 'Population', 'Daily Consumption mil-gal/day', 'Per Capita gal/day']\n",
    "dataset = pd.read_csv(data, header = 0, names = easier_names)\n",
    "print(dataset)"
   ]
  },
  {
   "cell_type": "code",
   "execution_count": 9,
   "id": "b80e2d2d",
   "metadata": {},
   "outputs": [
    {
     "data": {
      "text/plain": [
       "Year                             0\n",
       "Population                       0\n",
       "Daily Consumption mil-gal/day    0\n",
       "Per Capita gal/day               0\n",
       "dtype: int64"
      ]
     },
     "execution_count": 9,
     "metadata": {},
     "output_type": "execute_result"
    }
   ],
   "source": [
    "# Test for empty rows or column positions \n",
    "\n",
    "dataset.isnull().sum()"
   ]
  },
  {
   "cell_type": "markdown",
   "id": "e6bfb834",
   "metadata": {},
   "source": [
    "## Describing the data \n",
    "The data can be expressed either as:\n",
    "\n",
    "- year and population data \n",
    "- populaion and total consumption\n",
    "- year and per capita consumption\n",
    "- year and total consumption"
   ]
  },
  {
   "cell_type": "code",
   "execution_count": 10,
   "id": "0c01b3ae",
   "metadata": {},
   "outputs": [
    {
     "data": {
      "text/html": [
       "<div>\n",
       "<style scoped>\n",
       "    .dataframe tbody tr th:only-of-type {\n",
       "        vertical-align: middle;\n",
       "    }\n",
       "\n",
       "    .dataframe tbody tr th {\n",
       "        vertical-align: top;\n",
       "    }\n",
       "\n",
       "    .dataframe thead th {\n",
       "        text-align: right;\n",
       "    }\n",
       "</style>\n",
       "<table border=\"1\" class=\"dataframe\">\n",
       "  <thead>\n",
       "    <tr style=\"text-align: right;\">\n",
       "      <th></th>\n",
       "      <th>Year</th>\n",
       "      <th>Population</th>\n",
       "      <th>Daily Consumption mil-gal/day</th>\n",
       "      <th>Per Capita gal/day</th>\n",
       "    </tr>\n",
       "  </thead>\n",
       "  <tbody>\n",
       "  </tbody>\n",
       "</table>\n",
       "</div>"
      ],
      "text/plain": [
       "Empty DataFrame\n",
       "Columns: [Year, Population, Daily Consumption mil-gal/day, Per Capita gal/day]\n",
       "Index: []"
      ]
     },
     "execution_count": 10,
     "metadata": {},
     "output_type": "execute_result"
    }
   ],
   "source": [
    "# check for duplicates in years\n",
    "dataset[dataset.duplicated(['Year'])]"
   ]
  },
  {
   "cell_type": "markdown",
   "id": "d847f9a0",
   "metadata": {},
   "source": [
    "### Data Duplicates \n",
    "- the data has no duplicates\n",
    "\n",
    "it can be used and ploted to graphs"
   ]
  },
  {
   "cell_type": "code",
   "execution_count": 12,
   "id": "4c697d7f",
   "metadata": {},
   "outputs": [
    {
     "name": "stdout",
     "output_type": "stream",
     "text": [
      "The mean daily consumption in millionms of gallons a day is:\n",
      "\n",
      "\t1211.385\n",
      "\n",
      "\n",
      "The mean per capita consumption is:\n",
      "\n",
      "\t155.535\n",
      "\n",
      "\n"
     ]
    }
   ],
   "source": [
    "mean_daily_consumption = dataset['Daily Consumption mil-gal/day'].mean()\n",
    "print(f'The mean daily consumption in millionms of gallons a day is:\\n\\n\\t{round(mean_daily_consumption, 3)}\\n\\n')\n",
    "mean_per_cap_consumption = dataset['Per Capita gal/day'].mean()\n",
    "print(f'The mean per capita consumption is:\\n\\n\\t{round(mean_per_cap_consumption, 3)}\\n\\n')"
   ]
  },
  {
   "cell_type": "code",
   "execution_count": 16,
   "id": "69285b82",
   "metadata": {},
   "outputs": [
    {
     "data": {
      "text/plain": [
       "<function matplotlib.pyplot.show(close=None, block=None)>"
      ]
     },
     "execution_count": 16,
     "metadata": {},
     "output_type": "execute_result"
    },
    {
     "data": {
      "image/png": "[encoded data removed]",
      "text/plain": [
       "<Figure size 432x288 with 1 Axes>"
      ]
     },
     "metadata": {
      "needs_background": "light"
     },
     "output_type": "display_data"
    }
   ],
   "source": [
    "# How the population of NewYork has changed over the years\n",
    "year = dataset['Year']\n",
    "pop = dataset['Population']\n",
    "plt.plot(year, pop)\n",
    "plt.title('Population Growth in NYC 1979-2021')\n",
    "plt.xlabel('Year')\n",
    "plt.ylabel('Population in millions')\n",
    "plt.show"
   ]
  },
  {
   "cell_type": "code",
   "execution_count": 20,
   "id": "6eb25f52",
   "metadata": {},
   "outputs": [
    {
     "data": {
      "text/html": [
       "<div>\n",
       "<style scoped>\n",
       "    .dataframe tbody tr th:only-of-type {\n",
       "        vertical-align: middle;\n",
       "    }\n",
       "\n",
       "    .dataframe tbody tr th {\n",
       "        vertical-align: top;\n",
       "    }\n",
       "\n",
       "    .dataframe thead th {\n",
       "        text-align: right;\n",
       "    }\n",
       "</style>\n",
       "<table border=\"1\" class=\"dataframe\">\n",
       "  <thead>\n",
       "    <tr style=\"text-align: right;\">\n",
       "      <th></th>\n",
       "      <th>Year</th>\n",
       "      <th>Population</th>\n",
       "      <th>Daily Consumption mil-gal/day</th>\n",
       "      <th>Per Capita gal/day</th>\n",
       "    </tr>\n",
       "  </thead>\n",
       "  <tbody>\n",
       "    <tr>\n",
       "      <th>32</th>\n",
       "      <td>2011</td>\n",
       "      <td>8337995.0</td>\n",
       "      <td>1021.00</td>\n",
       "      <td>122</td>\n",
       "    </tr>\n",
       "    <tr>\n",
       "      <th>33</th>\n",
       "      <td>2012</td>\n",
       "      <td>8463949.0</td>\n",
       "      <td>1009.14</td>\n",
       "      <td>119</td>\n",
       "    </tr>\n",
       "    <tr>\n",
       "      <th>34</th>\n",
       "      <td>2013</td>\n",
       "      <td>8565546.0</td>\n",
       "      <td>1006.10</td>\n",
       "      <td>117</td>\n",
       "    </tr>\n",
       "    <tr>\n",
       "      <th>35</th>\n",
       "      <td>2014</td>\n",
       "      <td>8655309.0</td>\n",
       "      <td>996.00</td>\n",
       "      <td>115</td>\n",
       "    </tr>\n",
       "    <tr>\n",
       "      <th>36</th>\n",
       "      <td>2015</td>\n",
       "      <td>8736703.0</td>\n",
       "      <td>1009.00</td>\n",
       "      <td>115</td>\n",
       "    </tr>\n",
       "    <tr>\n",
       "      <th>37</th>\n",
       "      <td>2016</td>\n",
       "      <td>8794605.0</td>\n",
       "      <td>1002.00</td>\n",
       "      <td>114</td>\n",
       "    </tr>\n",
       "    <tr>\n",
       "      <th>38</th>\n",
       "      <td>2017</td>\n",
       "      <td>8815448.0</td>\n",
       "      <td>990.20</td>\n",
       "      <td>112</td>\n",
       "    </tr>\n",
       "    <tr>\n",
       "      <th>39</th>\n",
       "      <td>2018</td>\n",
       "      <td>8826472.0</td>\n",
       "      <td>1008.00</td>\n",
       "      <td>114</td>\n",
       "    </tr>\n",
       "    <tr>\n",
       "      <th>40</th>\n",
       "      <td>2019</td>\n",
       "      <td>8824887.0</td>\n",
       "      <td>987.40</td>\n",
       "      <td>112</td>\n",
       "    </tr>\n",
       "    <tr>\n",
       "      <th>41</th>\n",
       "      <td>2020</td>\n",
       "      <td>8804190.0</td>\n",
       "      <td>981.00</td>\n",
       "      <td>111</td>\n",
       "    </tr>\n",
       "    <tr>\n",
       "      <th>42</th>\n",
       "      <td>2021</td>\n",
       "      <td>8467513.0</td>\n",
       "      <td>979.00</td>\n",
       "      <td>116</td>\n",
       "    </tr>\n",
       "  </tbody>\n",
       "</table>\n",
       "</div>"
      ],
      "text/plain": [
       "    Year  Population  Daily Consumption mil-gal/day  Per Capita gal/day\n",
       "32  2011   8337995.0                        1021.00                 122\n",
       "33  2012   8463949.0                        1009.14                 119\n",
       "34  2013   8565546.0                        1006.10                 117\n",
       "35  2014   8655309.0                         996.00                 115\n",
       "36  2015   8736703.0                        1009.00                 115\n",
       "37  2016   8794605.0                        1002.00                 114\n",
       "38  2017   8815448.0                         990.20                 112\n",
       "39  2018   8826472.0                        1008.00                 114\n",
       "40  2019   8824887.0                         987.40                 112\n",
       "41  2020   8804190.0                         981.00                 111\n",
       "42  2021   8467513.0                         979.00                 116"
      ]
     },
     "execution_count": 20,
     "metadata": {},
     "output_type": "execute_result"
    }
   ],
   "source": [
    "# The consumption over the last 10 years\n",
    "last_ten = dataset.iloc[32:]\n",
    "last_ten"
   ]
  },
  {
   "cell_type": "code",
   "execution_count": 30,
   "id": "822a636e",
   "metadata": {},
   "outputs": [
    {
     "ename": "TypeError",
     "evalue": "'str' object is not callable",
     "output_type": "error",
     "traceback": [
      "\u001b[1;31m---------------------------------------------------------------------------\u001b[0m",
      "\u001b[1;31mTypeError\u001b[0m                                 Traceback (most recent call last)",
      "Input \u001b[1;32mIn [30]\u001b[0m, in \u001b[0;36m<cell line: 5>\u001b[1;34m()\u001b[0m\n\u001b[0;32m      2\u001b[0m year \u001b[38;5;241m=\u001b[39m last_ten[\u001b[38;5;124m'\u001b[39m\u001b[38;5;124mYear\u001b[39m\u001b[38;5;124m'\u001b[39m]\n\u001b[0;32m      4\u001b[0m plt\u001b[38;5;241m.\u001b[39mbar(year, daily, color\u001b[38;5;241m=\u001b[39m\u001b[38;5;124m'\u001b[39m\u001b[38;5;124mblue\u001b[39m\u001b[38;5;124m'\u001b[39m)\n\u001b[1;32m----> 5\u001b[0m \u001b[43mplt\u001b[49m\u001b[38;5;241;43m.\u001b[39;49m\u001b[43mxlabel\u001b[49m\u001b[43m(\u001b[49m\u001b[38;5;124;43m'\u001b[39;49m\u001b[38;5;124;43mYears\u001b[39;49m\u001b[38;5;124;43m'\u001b[39;49m\u001b[43m,\u001b[49m\u001b[43m \u001b[49m\u001b[43mfontweight\u001b[49m\u001b[43m \u001b[49m\u001b[38;5;241;43m=\u001b[39;49m\u001b[38;5;124;43m'\u001b[39;49m\u001b[38;5;124;43mbold\u001b[39;49m\u001b[38;5;124;43m'\u001b[39;49m\u001b[43m,\u001b[49m\u001b[43m \u001b[49m\u001b[43mfontsize\u001b[49m\u001b[43m \u001b[49m\u001b[38;5;241;43m=\u001b[39;49m\u001b[43m \u001b[49m\u001b[38;5;241;43m15\u001b[39;49m\u001b[43m)\u001b[49m\n\u001b[0;32m      6\u001b[0m plt\u001b[38;5;241m.\u001b[39mylabel(\u001b[38;5;124m'\u001b[39m\u001b[38;5;124mDaily Consumption mil-gal/day\u001b[39m\u001b[38;5;124m'\u001b[39m)\n\u001b[0;32m      7\u001b[0m plt\u001b[38;5;241m.\u001b[39mtitle(\u001b[38;5;124m'\u001b[39m\u001b[38;5;124mDaily Consumption in Millions of Gallons a Day\u001b[39m\u001b[38;5;124m'\u001b[39m)\n",
      "\u001b[1;31mTypeError\u001b[0m: 'str' object is not callable"
     ]
    },
    {
     "data": {
      "image/png": "[encoded data removed]",
      "text/plain": [
       "<Figure size 432x288 with 1 Axes>"
      ]
     },
     "metadata": {
      "needs_background": "light"
     },
     "output_type": "display_data"
    }
   ],
   "source": [
    "daily = last_ten['Daily Consumption mil-gal/day']\n",
    "pacap = last_ten['Per Capita gal/day']\n",
    "year = last_ten['Year']\n",
    "\n",
    "# the display area settings\n",
    "barWidth = 0.25\n",
    "fig = plt.subplots(figsize =(12, 8))\n",
    "\n",
    "# bar positions\n",
    "bar_daily = np.arange(len(daily))\n",
    "bar_pacap = [x + barwidth for x in bar_daily]\n",
    "\n",
    "plt.bar(bar_daily, daily,width= barWidth, color='blue', edgecolor='grey', label = 'daily')\n",
    "plt.bar(bar_pacap, pacap,width= barWidth, color='red', edgecolor='grey', label = 'pacap')\n",
    "\n",
    "# labeling sides\n",
    "plt.xlabel('Years', fontweight ='bold', fontsize = 15)\n",
    "plt.ylabel('Water Consumption gal/day')\n",
    "plt.xticks([r + barWidth for r in range(len(bar_daily))], [2011, 2012, 2013, 20])\n",
    "plt.title('Daily Consumption in Millions of Gallons a Day')\n",
    "plt.show()"
   ]
  },
  {
   "cell_type": "code",
   "execution_count": null,
   "id": "314b9607",
   "metadata": {},
   "outputs": [],
   "source": []
  }
 ],
 "metadata": {
  "kernelspec": {
   "display_name": "Python 3 (ipykernel)",
   "language": "python",
   "name": "python3"
  },
  "language_info": {
   "codemirror_mode": {
    "name": "ipython",
    "version": 3
   },
   "file_extension": ".py",
   "mimetype": "text/x-python",
   "name": "python",
   "nbconvert_exporter": "python",
   "pygments_lexer": "ipython3",
   "version": "3.9.12"
  }
 },
 "nbformat": 4,
 "nbformat_minor": 5
}
